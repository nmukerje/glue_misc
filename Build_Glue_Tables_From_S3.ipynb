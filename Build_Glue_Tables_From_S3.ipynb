{
 "cells": [
  {
   "cell_type": "code",
   "execution_count": 1,
   "metadata": {
    "ExecuteTime": {
     "end_time": "2019-04-23T06:52:03.148571Z",
     "start_time": "2019-04-23T06:52:02.735992Z"
    }
   },
   "outputs": [],
   "source": [
    "import boto3\n",
    "import pandas as pd\n",
    "\n",
    "bucket='<bucket>'\n",
    "prefix='root'\n",
    "\n",
    "# This needs to be replaced if using an external Type lookup\n",
    "# perhaps read from a file in S3. Types should be Athena supported types.\n",
    "Type_Translation={\"project2.table1.col1\":\"string\",\"project2.table1.col2\":\"bigint\",\"project2.table1.col3\":\"bigint\",   \\\n",
    "                  \"project2.table1.col4\":\"bigint\",\"project2.table1.col5\":\"bigint\", \"project2.table2.col1\":\"string\",  \\\n",
    "                  \"project2.table2.col2\":\"bigint\", \"project2.table2.col3\": \"bigint\",\"project1.table3.col10\":\"string\",\\\n",
    "                  \"project1.table3.col20\":\"float\",\"project1.table3.col30\":\"float\", \"project1.table3.col40\":\"float\",  \\\n",
    "                  \"project1.table3.col50\":\"float\"}"
   ]
  },
  {
   "cell_type": "code",
   "execution_count": 2,
   "metadata": {
    "ExecuteTime": {
     "end_time": "2019-04-23T06:52:12.464358Z",
     "start_time": "2019-04-23T06:52:12.452750Z"
    }
   },
   "outputs": [],
   "source": [
    "def create_database(glue_client,database_name):\n",
    "    \"\"\"Create this database in the Data Catalog\"\"\"\n",
    "    glue_client.create_database(\n",
    "            DatabaseInput={\n",
    "                'Name': database_name\n",
    "            }\n",
    ")\n",
    "        \n",
    "def does_database_exist(glue_client,database_name):\n",
    "    \"\"\"Determine if this database exists in the Data Catalog\n",
    "    The Glue client will raise an exception if it does not exist.\n",
    "    \"\"\"\n",
    "    try:\n",
    "        glue_client.get_database(Name=database_name)\n",
    "        return True\n",
    "    except glue_client.exceptions.EntityNotFoundException:\n",
    "        return False\n",
    "    \n",
    "def does_table_exist(glue_client,table):\n",
    "    \"\"\"Determine if this table exists in the Data Catalog\n",
    "    The Glue client will raise an exception if it does not exist.\n",
    "    \"\"\"\n",
    "    schema=table[0]\n",
    "    tablename=table[1]\n",
    "    try:\n",
    "        glue_client.get_table(DatabaseName=schema,Name=tablename)\n",
    "        return True\n",
    "    except glue_client.exceptions.EntityNotFoundException:\n",
    "        return False\n",
    "    \n",
    "def create_table(glue_client,bucket,table):\n",
    "    \"\"\"Create this table in the Data Catalog\"\"\"\n",
    "    schema=table[0]\n",
    "    tablename=table[1]\n",
    "    filename=table[2]\n",
    "    filepath=\"s3://\"+('/').join([bucket,prefix,schema,tablename])\n",
    "    # Type lookup to build columns\n",
    "    columns_array=[{'Name':k.strip(),'Type': Type_Translation['.'.join([schema,tablename,k.strip()])]} for k in table[3]]\n",
    "    \n",
    "    # Assuming CSV tables with headers in files.\n",
    "    response = glue_client.create_table(\n",
    "        DatabaseName=table[0],\n",
    "        TableInput={\n",
    "        'Name': table[1],\n",
    "        'StorageDescriptor': {\n",
    "            'Columns': columns_array ,\n",
    "        'Location': filepath, \n",
    "        'InputFormat': 'org.apache.hadoop.mapred.TextInputFormat',\n",
    "        'OutputFormat': 'org.apache.hadoop.hive.ql.io.HiveIgnoreKeyTextOutputFormat',\n",
    "        'Compressed': False,\n",
    "        'SerdeInfo': {  'SerializationLibrary': 'org.apache.hadoop.hive.serde2.lazy.LazySimpleSerDe',\\\n",
    "                      'Parameters': {'field.delim': ',', 'serialization.format': ','}}\n",
    "        },\n",
    "        'TableType' : \"EXTERNAL_TABLE\",\n",
    "        'Parameters': {\n",
    "                    'classification': 'csv',\n",
    "                    'delimiter':',',\n",
    "                    'skip.header.line.count':'1'\n",
    "                }}\n",
    "        )"
   ]
  },
  {
   "cell_type": "code",
   "execution_count": 3,
   "metadata": {
    "ExecuteTime": {
     "end_time": "2019-04-23T06:52:17.500235Z",
     "start_time": "2019-04-23T06:52:15.883360Z"
    }
   },
   "outputs": [
    {
     "name": "stdout",
     "output_type": "stream",
     "text": [
      "Database created: project1\n",
      "Table created: project1.table3\n",
      "Database created: project2\n",
      "Table created: project2.table1\n",
      "Table created: project2.table2\n"
     ]
    }
   ],
   "source": [
    "# Get all files from S3 with size > 0\n",
    "# and create tables in the Glue Catalog\n",
    "\n",
    "s3 = boto3.client('s3')\n",
    "glue = boto3.client('glue')\n",
    "\n",
    "paginator = s3.get_paginator('list_objects_v2')\n",
    "\n",
    "# Paginator ensures we can pull more than 1000 objects\n",
    "page_iterator = paginator.paginate(Bucket=bucket,Prefix=prefix)\n",
    "\n",
    "for page in page_iterator:\n",
    "    if page['KeyCount'] > 0:\n",
    "        for item in page['Contents']:\n",
    "            if item['Size'] > 0:\n",
    "                \n",
    "                # Assuming bucket/prefix/schema/table/filename path in S3\n",
    "                schema,table,filename = item['Key'].split(\"/\")[-3:]\n",
    "                df=pd.read_csv(\"s3://\"+('/').join([bucket,prefix,schema,table,filename]))\n",
    "                columns=list(df.columns)\n",
    "                \n",
    "                # Table tuple\n",
    "                t=(schema,table,filename,columns)\n",
    "                \n",
    "                # Create Database if not exists\n",
    "                if not does_database_exist(glue,schema):\n",
    "                    create_database(glue,schema)\n",
    "                    print (\"Database created: %s\"%schema)\n",
    "                    \n",
    "                # Create Table if not exists    \n",
    "                if not does_table_exist(glue,t):\n",
    "                    create_table(glue,bucket,t)\n",
    "                    print (\"Table created: %s\"%(t[0]+'.'+t[1]))"
   ]
  }
 ],
 "metadata": {
  "kernelspec": {
   "display_name": "conda_python3",
   "language": "python",
   "name": "conda_python3"
  },
  "language_info": {
   "codemirror_mode": {
    "name": "ipython",
    "version": 3
   },
   "file_extension": ".py",
   "mimetype": "text/x-python",
   "name": "python",
   "nbconvert_exporter": "python",
   "pygments_lexer": "ipython3",
   "version": "3.6.5"
  }
 },
 "nbformat": 4,
 "nbformat_minor": 2
}
