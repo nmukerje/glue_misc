{
 "cells": [
  {
   "cell_type": "markdown",
   "metadata": {},
   "source": [
    "## Spark Schema Evolution using the Glue Catalog:\n",
    "\n",
    "There are 4 cases:\n",
    "\n",
    "1. Columns are added in the middle - which is an incompatible change.\n",
    "2. Columns are dropped i.e. missing - which is a compatible change as nulls are expected for newer records.\n",
    "3. Column types are changed - is an incompatible change. You could try automatic casting as a resolution here.\n",
    "4. Columns are added at the end - which is a compatible change.\n"
   ]
  },
  {
   "cell_type": "code",
   "execution_count": 1,
   "metadata": {},
   "outputs": [
    {
     "name": "stdout",
     "output_type": "stream",
     "text": [
      "Starting Spark application\n"
     ]
    },
    {
     "data": {
      "text/html": [
       "<table>\n",
       "<tr><th>ID</th><th>YARN Application ID</th><th>Kind</th><th>State</th><th>Spark UI</th><th>Driver log</th><th>Current session?</th></tr><tr><td>6</td><td>application_1598906256794_0007</td><td>pyspark</td><td>idle</td><td><a target=\"_blank\" href=\"http://ip-172-31-37-198.us-west-2.compute.internal:20888/proxy/application_1598906256794_0007/\">Link</a></td><td><a target=\"_blank\" href=\"http://ip-172-31-46-216.us-west-2.compute.internal:8042/node/containerlogs/container_1598906256794_0007_01_000001/livy\">Link</a></td><td>✔</td></tr></table>"
      ],
      "text/plain": [
       "<IPython.core.display.HTML object>"
      ]
     },
     "metadata": {},
     "output_type": "display_data"
    },
    {
     "data": {
      "application/vnd.jupyter.widget-view+json": {
       "model_id": "",
       "version_major": 2,
       "version_minor": 0
      },
      "text/plain": [
       "FloatProgress(value=0.0, bar_style='info', description='Progress:', layout=Layout(height='25px', width='50%'),…"
      ]
     },
     "metadata": {},
     "output_type": "display_data"
    },
    {
     "name": "stdout",
     "output_type": "stream",
     "text": [
      "SparkSession available as 'spark'.\n"
     ]
    },
    {
     "data": {
      "application/vnd.jupyter.widget-view+json": {
       "model_id": "",
       "version_major": 2,
       "version_minor": 0
      },
      "text/plain": [
       "FloatProgress(value=0.0, bar_style='info', description='Progress:', layout=Layout(height='25px', width='50%'),…"
      ]
     },
     "metadata": {},
     "output_type": "display_data"
    }
   ],
   "source": [
    "import boto3\n",
    "\n",
    "glue = boto3.client('glue',region_name='us-west-2')\n",
    "account='123456789012'"
   ]
  },
  {
   "cell_type": "code",
   "execution_count": 2,
   "metadata": {},
   "outputs": [
    {
     "data": {
      "application/vnd.jupyter.widget-view+json": {
       "model_id": "",
       "version_major": 2,
       "version_minor": 0
      },
      "text/plain": [
       "FloatProgress(value=0.0, bar_style='info', description='Progress:', layout=Layout(height='25px', width='50%'),…"
      ]
     },
     "metadata": {},
     "output_type": "display_data"
    }
   ],
   "source": [
    "from pyspark.sql.functions import when, lit, col\n",
    "\n",
    "typeMapping={\n",
    "    \"LongType\":\"bigint\",\n",
    "    \"StringType\":\"string\",\n",
    "    \"IntegerType\":\"integer\",\n",
    "    \"DecimalType\":\"decimal\",\n",
    "    \"BooleanType\":\"boolean\"\n",
    "    \"FloatType\":\"decimal\",\n",
    "    \"BinaryType\":\"binary\",\n",
    "    \"BooleanType\":\"boolean\"\n",
    "}\n",
    "\n",
    "def evolveSchema(df, table,strict=False,forcecast=True):\n",
    "    original_df=spark.sql(\"SELECT * FROM \"+table+\" LIMIT 0\")\n",
    "    odf = original_df\n",
    "    if (df.schema != odf.schema):\n",
    "        if (strict):\n",
    "            print (\"Strict Schema Validation Failed : Incoming Schema is not compatible with existing Table.\")\n",
    "            if len(odf.schema) > len(df.schema):\n",
    "                print (\"Original Data Diff : \"+str(set(odf.schema)-set(df.schema)))\n",
    "            else:\n",
    "                print (\"Incoming Data Diff : \"+str(set(df.schema)-set(odf.schema)))\n",
    "            return (False,df)\n",
    "        else:\n",
    "            new_cols=[s for s in list(set([s.name for s in df.schema.fields])-set([s.name for s in odf.schema.fields]))]\n",
    "            \n",
    "            missing_cols=[s for s in list(set([s.name for s in odf.schema.fields])-set([s.name for s in df.schema.fields]))]\n",
    "            for k in missing_cols:\n",
    "                df=df.withColumn(k,lit(None))\n",
    "                \n",
    "            if forcecast:\n",
    "                ## force cast columns \n",
    "                existing_cols=[f'cast({s.name} as {s.dataType.typeName()}) {s.name}' for s in odf.schema.fields]\n",
    "                #print  (existing_cols)\n",
    "                #print  (new_cols)\n",
    "                new_df = df.selectExpr(existing_cols+new_cols)\n",
    "            else:    \n",
    "                ## re-arrange the columns to ensure schema compatibility\n",
    "                existing_cols=[s.name for s in odf.schema.fields]\n",
    "                new_df = df.select(existing_cols+new_cols)\n",
    "                  \n",
    "            return (True, new_df)\n",
    "    return (True,None)\n",
    "\n",
    "def update_glue_schema(dataframe, database, table):\n",
    "    \n",
    "    response_get_table=glue.get_table(\n",
    "       CatalogId=account,\n",
    "       DatabaseName=database,\n",
    "       Name=table\n",
    "    )\n",
    "    print (response_get_table)\n",
    "    \n",
    "    tableInput=response_get_table['Table']\n",
    "    \n",
    "    del tableInput['DatabaseName']\n",
    "    del tableInput['CreateTime']\n",
    "    del tableInput['UpdateTime']\n",
    "    del tableInput['CreatedBy']\n",
    "    del tableInput['IsRegisteredWithLakeFormation']\n",
    "    \n",
    "    columns=[{'Name':k.name,'Type':typeMapping[str(k.dataType)]} for k in dataframe.schema.fields]\n",
    "    tableInput['StorageDescriptor']['Columns']=columns\n",
    "    \n",
    "    response_update_table = glue.update_table(\n",
    "       CatalogId=account,\n",
    "       DatabaseName=database,\n",
    "       TableInput=tableInput)\n",
    "    \n",
    "    return response_update_table    "
   ]
  },
  {
   "cell_type": "code",
   "execution_count": 3,
   "metadata": {},
   "outputs": [
    {
     "data": {
      "application/vnd.jupyter.widget-view+json": {
       "model_id": "",
       "version_major": 2,
       "version_minor": 0
      },
      "text/plain": [
       "FloatProgress(value=0.0, bar_style='info', description='Progress:', layout=Layout(height='25px', width='50%'),…"
      ]
     },
     "metadata": {},
     "output_type": "display_data"
    },
    {
     "name": "stdout",
     "output_type": "stream",
     "text": [
      "+---+-------------------+---+---+\n",
      "| id|      modified_time| sk|txt|\n",
      "+---+-------------------+---+---+\n",
      "|  0|2020-08-31 22:27:03|  0|  A|\n",
      "|  1|2020-08-31 22:27:03|  1|  B|\n",
      "|  2|2020-08-31 22:27:03|  2|  C|\n",
      "|  3|2020-08-31 22:27:03|  3|  D|\n",
      "|  4|2020-08-31 22:27:03|  4|  E|\n",
      "|  5|2020-08-31 22:27:03|  5|  F|\n",
      "|  6|2020-08-31 22:27:03|  6|  G|\n",
      "|  7|2020-08-31 22:27:03|  7|  H|\n",
      "|  8|2020-08-31 22:27:03|  8|  I|\n",
      "|  9|2020-08-31 22:27:03|  9|  J|\n",
      "+---+-------------------+---+---+"
     ]
    }
   ],
   "source": [
    "spark.sql(\"SELECT * FROM schema_test.s_schema_test LIMIT 10\").show()"
   ]
  },
  {
   "cell_type": "markdown",
   "metadata": {},
   "source": [
    "### Case 1 : Columns are added in the middle"
   ]
  },
  {
   "cell_type": "code",
   "execution_count": 6,
   "metadata": {},
   "outputs": [
    {
     "data": {
      "application/vnd.jupyter.widget-view+json": {
       "model_id": "",
       "version_major": 2,
       "version_minor": 0
      },
      "text/plain": [
       "FloatProgress(value=0.0, bar_style='info', description='Progress:', layout=Layout(height='25px', width='50%'),…"
      ]
     },
     "metadata": {},
     "output_type": "display_data"
    }
   ],
   "source": [
    "from datetime import datetime\n",
    "\n",
    "## Generates Data\n",
    "def get_json_data(start, count, increment=0):\n",
    "    now = str(datetime.today().replace(microsecond=0))\n",
    "    data = [{\"id\": i, \"id1\": i,\"sk\": i+increment, \"txt\": chr(65 + (i % 26)), \"modified_time\" : now } for i in range(start, start + count)]\n",
    "    return data\n",
    "\n",
    "# Creates the Dataframe\n",
    "def create_json_df(spark, data):\n",
    "    sc = spark.sparkContext\n",
    "    return spark.read.json(sc.parallelize(data, 2))"
   ]
  },
  {
   "cell_type": "code",
   "execution_count": 7,
   "metadata": {},
   "outputs": [
    {
     "data": {
      "application/vnd.jupyter.widget-view+json": {
       "model_id": "",
       "version_major": 2,
       "version_minor": 0
      },
      "text/plain": [
       "FloatProgress(value=0.0, bar_style='info', description='Progress:', layout=Layout(height='25px', width='50%'),…"
      ]
     },
     "metadata": {},
     "output_type": "display_data"
    },
    {
     "name": "stdout",
     "output_type": "stream",
     "text": [
      "4000\n",
      "root\n",
      " |-- id: long (nullable = true)\n",
      " |-- id1: long (nullable = true)\n",
      " |-- modified_time: string (nullable = true)\n",
      " |-- sk: long (nullable = true)\n",
      " |-- txt: string (nullable = true)\n",
      "\n",
      "+---+---+-------------------+---+---+\n",
      "| id|id1|      modified_time| sk|txt|\n",
      "+---+---+-------------------+---+---+\n",
      "|  0|  0|2020-08-31 22:30:52|  0|  A|\n",
      "|  1|  1|2020-08-31 22:30:52|  1|  B|\n",
      "|  2|  2|2020-08-31 22:30:52|  2|  C|\n",
      "+---+---+-------------------+---+---+\n",
      "only showing top 3 rows"
     ]
    }
   ],
   "source": [
    "df1 = create_json_df(spark, get_json_data(0, 4000))\n",
    "print(df1.count())\n",
    "df1.printSchema()\n",
    "df1.show(3)"
   ]
  },
  {
   "cell_type": "code",
   "execution_count": 8,
   "metadata": {},
   "outputs": [
    {
     "data": {
      "application/vnd.jupyter.widget-view+json": {
       "model_id": "",
       "version_major": 2,
       "version_minor": 0
      },
      "text/plain": [
       "FloatProgress(value=0.0, bar_style='info', description='Progress:', layout=Layout(height='25px', width='50%'),…"
      ]
     },
     "metadata": {},
     "output_type": "display_data"
    },
    {
     "name": "stdout",
     "output_type": "stream",
     "text": [
      "root\n",
      " |-- id: long (nullable = true)\n",
      " |-- modified_time: string (nullable = true)\n",
      " |-- sk: long (nullable = true)\n",
      " |-- txt: string (nullable = true)\n",
      " |-- id1: long (nullable = true)"
     ]
    }
   ],
   "source": [
    "evolved_df=evolveSchema(df1,\"schema_test.s_schema_test\",False)\n",
    "evolved_df[1].printSchema()"
   ]
  },
  {
   "cell_type": "code",
   "execution_count": 9,
   "metadata": {},
   "outputs": [
    {
     "data": {
      "application/vnd.jupyter.widget-view+json": {
       "model_id": "",
       "version_major": 2,
       "version_minor": 0
      },
      "text/plain": [
       "FloatProgress(value=0.0, bar_style='info', description='Progress:', layout=Layout(height='25px', width='50%'),…"
      ]
     },
     "metadata": {},
     "output_type": "display_data"
    }
   ],
   "source": [
    "evolved_df[1].write.mode(\"APPEND\").parquet(\"s3://s3bucket/parquet/schema_test/\")"
   ]
  },
  {
   "cell_type": "code",
   "execution_count": 10,
   "metadata": {},
   "outputs": [
    {
     "data": {
      "application/vnd.jupyter.widget-view+json": {
       "model_id": "",
       "version_major": 2,
       "version_minor": 0
      },
      "text/plain": [
       "FloatProgress(value=0.0, bar_style='info', description='Progress:', layout=Layout(height='25px', width='50%'),…"
      ]
     },
     "metadata": {},
     "output_type": "display_data"
    },
    {
     "name": "stdout",
     "output_type": "stream",
     "text": [
      "{'Table': {'Name': 's_schema_test', 'DatabaseName': 'schema_test', 'Owner': 'owner', 'CreateTime': datetime.datetime(2020, 8, 31, 22, 28, 33, tzinfo=tzlocal()), 'UpdateTime': datetime.datetime(2020, 8, 31, 22, 28, 33, tzinfo=tzlocal()), 'LastAccessTime': datetime.datetime(2020, 8, 31, 22, 28, 33, tzinfo=tzlocal()), 'Retention': 0, 'StorageDescriptor': {'Columns': [{'Name': 'id', 'Type': 'bigint'}, {'Name': 'modified_time', 'Type': 'string'}, {'Name': 'sk', 'Type': 'bigint'}, {'Name': 'txt', 'Type': 'string'}], 'Location': 's3://s3bucket/parquet/schema_test/', 'InputFormat': 'org.apache.hadoop.hive.ql.io.parquet.MapredParquetInputFormat', 'OutputFormat': 'org.apache.hadoop.hive.ql.io.parquet.MapredParquetOutputFormat', 'Compressed': False, 'NumberOfBuckets': -1, 'SerdeInfo': {'SerializationLibrary': 'org.apache.hadoop.hive.ql.io.parquet.serde.ParquetHiveSerDe', 'Parameters': {'serialization.format': '1'}}, 'BucketColumns': [], 'SortColumns': [], 'Parameters': {'CrawlerSchemaDeserializerVersion': '1.0', 'CrawlerSchemaSerializerVersion': '1.0', 'UPDATED_BY_CRAWLER': 'Schema_Test', 'averageRecordSize': '16', 'classification': 'parquet', 'compressionType': 'none', 'objectCount': '2', 'recordCount': '4000', 'sizeKey': '36567', 'typeOfData': 'file'}, 'StoredAsSubDirectories': False}, 'PartitionKeys': [], 'TableType': 'EXTERNAL_TABLE', 'Parameters': {'CrawlerSchemaDeserializerVersion': '1.0', 'CrawlerSchemaSerializerVersion': '1.0', 'UPDATED_BY_CRAWLER': 'Schema_Test', 'averageRecordSize': '16', 'classification': 'parquet', 'compressionType': 'none', 'objectCount': '2', 'recordCount': '4000', 'sizeKey': '36567', 'typeOfData': 'file'}, 'CreatedBy': 'arn:aws:sts::959874710265:assumed-role/GlueServiceRole/AWS-Crawler', 'IsRegisteredWithLakeFormation': False}, 'ResponseMetadata': {'RequestId': '7d22b310-1c3d-4987-8de8-b6fad266ed58', 'HTTPStatusCode': 200, 'HTTPHeaders': {'x-amzn-requestid': '7d22b310-1c3d-4987-8de8-b6fad266ed58', 'content-type': 'application/x-amz-json-1.1', 'content-length': '1563', 'date': 'Mon, 31 Aug 2020 22:31:11 GMT'}, 'RetryAttempts': 0}}\n",
      "{'ResponseMetadata': {'RequestId': '225886f1-686d-47c3-b0be-a0b1303cbcf7', 'HTTPStatusCode': 200, 'HTTPHeaders': {'x-amzn-requestid': '225886f1-686d-47c3-b0be-a0b1303cbcf7', 'content-type': 'application/x-amz-json-1.1', 'content-length': '2', 'date': 'Mon, 31 Aug 2020 22:31:11 GMT'}, 'RetryAttempts': 0}}"
     ]
    }
   ],
   "source": [
    "update_glue_schema(evolved_df[1],'schema_test','s_schema_test')"
   ]
  },
  {
   "cell_type": "code",
   "execution_count": 11,
   "metadata": {},
   "outputs": [
    {
     "data": {
      "application/vnd.jupyter.widget-view+json": {
       "model_id": "",
       "version_major": 2,
       "version_minor": 0
      },
      "text/plain": [
       "FloatProgress(value=0.0, bar_style='info', description='Progress:', layout=Layout(height='25px', width='50%'),…"
      ]
     },
     "metadata": {},
     "output_type": "display_data"
    },
    {
     "name": "stdout",
     "output_type": "stream",
     "text": [
      "+---+-------------------+---+---+---+\n",
      "| id|      modified_time| sk|txt|id1|\n",
      "+---+-------------------+---+---+---+\n",
      "|  0|2020-08-31 22:30:52|  0|  A|  0|\n",
      "|  1|2020-08-31 22:30:52|  1|  B|  1|\n",
      "|  2|2020-08-31 22:30:52|  2|  C|  2|\n",
      "|  3|2020-08-31 22:30:52|  3|  D|  3|\n",
      "|  4|2020-08-31 22:30:52|  4|  E|  4|\n",
      "|  5|2020-08-31 22:30:52|  5|  F|  5|\n",
      "|  6|2020-08-31 22:30:52|  6|  G|  6|\n",
      "|  7|2020-08-31 22:30:52|  7|  H|  7|\n",
      "|  8|2020-08-31 22:30:52|  8|  I|  8|\n",
      "|  9|2020-08-31 22:30:52|  9|  J|  9|\n",
      "+---+-------------------+---+---+---+"
     ]
    }
   ],
   "source": [
    "spark.sql(\"SELECT * FROM schema_test.s_schema_test LIMIT 10\").show()"
   ]
  },
  {
   "cell_type": "code",
   "execution_count": 12,
   "metadata": {},
   "outputs": [
    {
     "data": {
      "application/vnd.jupyter.widget-view+json": {
       "model_id": "",
       "version_major": 2,
       "version_minor": 0
      },
      "text/plain": [
       "FloatProgress(value=0.0, bar_style='info', description='Progress:', layout=Layout(height='25px', width='50%'),…"
      ]
     },
     "metadata": {},
     "output_type": "display_data"
    },
    {
     "name": "stdout",
     "output_type": "stream",
     "text": [
      "+---+-------------------+---+---+----+\n",
      "| id|      modified_time| sk|txt| id1|\n",
      "+---+-------------------+---+---+----+\n",
      "|  0|2020-08-31 22:27:03|  0|  A|null|\n",
      "|  1|2020-08-31 22:27:03|  1|  B|null|\n",
      "|  2|2020-08-31 22:27:03|  2|  C|null|\n",
      "|  3|2020-08-31 22:27:03|  3|  D|null|\n",
      "|  4|2020-08-31 22:27:03|  4|  E|null|\n",
      "|  5|2020-08-31 22:27:03|  5|  F|null|\n",
      "|  6|2020-08-31 22:27:03|  6|  G|null|\n",
      "|  7|2020-08-31 22:27:03|  7|  H|null|\n",
      "|  8|2020-08-31 22:27:03|  8|  I|null|\n",
      "|  9|2020-08-31 22:27:03|  9|  J|null|\n",
      "+---+-------------------+---+---+----+"
     ]
    }
   ],
   "source": [
    "spark.sql(\"SELECT * FROM schema_test.s_schema_test WHERE id1 is null LIMIT 10\").show()"
   ]
  },
  {
   "cell_type": "markdown",
   "metadata": {},
   "source": [
    "### Case 2 : Columns are dropped i.e. missing."
   ]
  },
  {
   "cell_type": "markdown",
   "metadata": {},
   "source": [
    "Note : New Column is moved to the end, making it a compatible change."
   ]
  },
  {
   "cell_type": "code",
   "execution_count": 13,
   "metadata": {},
   "outputs": [
    {
     "data": {
      "application/vnd.jupyter.widget-view+json": {
       "model_id": "",
       "version_major": 2,
       "version_minor": 0
      },
      "text/plain": [
       "FloatProgress(value=0.0, bar_style='info', description='Progress:', layout=Layout(height='25px', width='50%'),…"
      ]
     },
     "metadata": {},
     "output_type": "display_data"
    }
   ],
   "source": [
    "## Generates Data\n",
    "def get_json_data(start, count, increment=0):\n",
    "    now = str(datetime.today().replace(microsecond=0))\n",
    "    data = [{\"id\": i, \"id1\": i, \"txt\": chr(65 + (i % 26)), \"modified_time\" : now } for i in range(start, start + count)]\n",
    "    return data"
   ]
  },
  {
   "cell_type": "code",
   "execution_count": 14,
   "metadata": {},
   "outputs": [
    {
     "data": {
      "application/vnd.jupyter.widget-view+json": {
       "model_id": "",
       "version_major": 2,
       "version_minor": 0
      },
      "text/plain": [
       "FloatProgress(value=0.0, bar_style='info', description='Progress:', layout=Layout(height='25px', width='50%'),…"
      ]
     },
     "metadata": {},
     "output_type": "display_data"
    },
    {
     "name": "stdout",
     "output_type": "stream",
     "text": [
      "4000\n",
      "root\n",
      " |-- id: long (nullable = true)\n",
      " |-- id1: long (nullable = true)\n",
      " |-- modified_time: string (nullable = true)\n",
      " |-- txt: string (nullable = true)\n",
      "\n",
      "+---+---+-------------------+---+\n",
      "| id|id1|      modified_time|txt|\n",
      "+---+---+-------------------+---+\n",
      "|  0|  0|2020-08-31 22:32:26|  A|\n",
      "|  1|  1|2020-08-31 22:32:26|  B|\n",
      "|  2|  2|2020-08-31 22:32:26|  C|\n",
      "+---+---+-------------------+---+\n",
      "only showing top 3 rows"
     ]
    }
   ],
   "source": [
    "df2 = create_json_df(spark, get_json_data(0, 4000))\n",
    "print(df2.count())\n",
    "df2.printSchema()\n",
    "df2.show(3)"
   ]
  },
  {
   "cell_type": "code",
   "execution_count": 27,
   "metadata": {},
   "outputs": [
    {
     "data": {
      "application/vnd.jupyter.widget-view+json": {
       "model_id": "",
       "version_major": 2,
       "version_minor": 0
      },
      "text/plain": [
       "FloatProgress(value=0.0, bar_style='info', description='Progress:', layout=Layout(height='25px', width='50%'),…"
      ]
     },
     "metadata": {},
     "output_type": "display_data"
    },
    {
     "name": "stdout",
     "output_type": "stream",
     "text": [
      "['sk']\n",
      "root\n",
      " |-- id: long (nullable = true)\n",
      " |-- modified_time: string (nullable = true)\n",
      " |-- sk: long (nullable = true)\n",
      " |-- txt: string (nullable = true)\n",
      " |-- id1: long (nullable = true)"
     ]
    }
   ],
   "source": [
    "evolved_df=evolveSchema(df2,\"schema_test.s_schema_test\",False)\n",
    "evolved_df[1].printSchema()"
   ]
  },
  {
   "cell_type": "code",
   "execution_count": 35,
   "metadata": {},
   "outputs": [
    {
     "data": {
      "application/vnd.jupyter.widget-view+json": {
       "model_id": "",
       "version_major": 2,
       "version_minor": 0
      },
      "text/plain": [
       "FloatProgress(value=0.0, bar_style='info', description='Progress:', layout=Layout(height='25px', width='50%'),…"
      ]
     },
     "metadata": {},
     "output_type": "display_data"
    },
    {
     "name": "stdout",
     "output_type": "stream",
     "text": [
      "+---+-------------------+----+---+---+\n",
      "| id|      modified_time|  sk|txt|id1|\n",
      "+---+-------------------+----+---+---+\n",
      "|  0|2020-08-31 22:32:26|null|  A|  0|\n",
      "|  1|2020-08-31 22:32:26|null|  B|  1|\n",
      "|  2|2020-08-31 22:32:26|null|  C|  2|\n",
      "|  3|2020-08-31 22:32:26|null|  D|  3|\n",
      "|  4|2020-08-31 22:32:26|null|  E|  4|\n",
      "|  5|2020-08-31 22:32:26|null|  F|  5|\n",
      "|  6|2020-08-31 22:32:26|null|  G|  6|\n",
      "|  7|2020-08-31 22:32:26|null|  H|  7|\n",
      "|  8|2020-08-31 22:32:26|null|  I|  8|\n",
      "|  9|2020-08-31 22:32:26|null|  J|  9|\n",
      "| 10|2020-08-31 22:32:26|null|  K| 10|\n",
      "| 11|2020-08-31 22:32:26|null|  L| 11|\n",
      "| 12|2020-08-31 22:32:26|null|  M| 12|\n",
      "| 13|2020-08-31 22:32:26|null|  N| 13|\n",
      "| 14|2020-08-31 22:32:26|null|  O| 14|\n",
      "| 15|2020-08-31 22:32:26|null|  P| 15|\n",
      "| 16|2020-08-31 22:32:26|null|  Q| 16|\n",
      "| 17|2020-08-31 22:32:26|null|  R| 17|\n",
      "| 18|2020-08-31 22:32:26|null|  S| 18|\n",
      "| 19|2020-08-31 22:32:26|null|  T| 19|\n",
      "+---+-------------------+----+---+---+\n",
      "only showing top 20 rows"
     ]
    }
   ],
   "source": [
    "evolved_df[1].show()"
   ]
  },
  {
   "cell_type": "code",
   "execution_count": 36,
   "metadata": {},
   "outputs": [
    {
     "data": {
      "application/vnd.jupyter.widget-view+json": {
       "model_id": "",
       "version_major": 2,
       "version_minor": 0
      },
      "text/plain": [
       "FloatProgress(value=0.0, bar_style='info', description='Progress:', layout=Layout(height='25px', width='50%'),…"
      ]
     },
     "metadata": {},
     "output_type": "display_data"
    }
   ],
   "source": [
    "evolved_df[1].write.mode(\"APPEND\").parquet(\"s3://s3bucket/parquet/schema_test/\")"
   ]
  },
  {
   "cell_type": "code",
   "execution_count": 3,
   "metadata": {},
   "outputs": [
    {
     "data": {
      "application/vnd.jupyter.widget-view+json": {
       "model_id": "",
       "version_major": 2,
       "version_minor": 0
      },
      "text/plain": [
       "FloatProgress(value=0.0, bar_style='info', description='Progress:', layout=Layout(height='25px', width='50%'),…"
      ]
     },
     "metadata": {},
     "output_type": "display_data"
    },
    {
     "name": "stdout",
     "output_type": "stream",
     "text": [
      "+---+-------------------+----+---+---+\n",
      "| id|      modified_time|  sk|txt|id1|\n",
      "+---+-------------------+----+---+---+\n",
      "|  0|2020-08-31 22:32:26|null|  A|  0|\n",
      "|  1|2020-08-31 22:32:26|null|  B|  1|\n",
      "|  2|2020-08-31 22:32:26|null|  C|  2|\n",
      "|  3|2020-08-31 22:32:26|null|  D|  3|\n",
      "|  4|2020-08-31 22:32:26|null|  E|  4|\n",
      "|  5|2020-08-31 22:32:26|null|  F|  5|\n",
      "|  6|2020-08-31 22:32:26|null|  G|  6|\n",
      "|  7|2020-08-31 22:32:26|null|  H|  7|\n",
      "|  8|2020-08-31 22:32:26|null|  I|  8|\n",
      "|  9|2020-08-31 22:32:26|null|  J|  9|\n",
      "+---+-------------------+----+---+---+"
     ]
    }
   ],
   "source": [
    "spark.sql(\"SELECT * FROM schema_test.s_schema_test WHERE sk is null LIMIT 10\").show()"
   ]
  },
  {
   "cell_type": "code",
   "execution_count": 4,
   "metadata": {},
   "outputs": [
    {
     "data": {
      "application/vnd.jupyter.widget-view+json": {
       "model_id": "",
       "version_major": 2,
       "version_minor": 0
      },
      "text/plain": [
       "FloatProgress(value=0.0, bar_style='info', description='Progress:', layout=Layout(height='25px', width='50%'),…"
      ]
     },
     "metadata": {},
     "output_type": "display_data"
    },
    {
     "name": "stdout",
     "output_type": "stream",
     "text": [
      "+---+-------------------+---+---+---+\n",
      "| id|      modified_time| sk|txt|id1|\n",
      "+---+-------------------+---+---+---+\n",
      "|  0|2020-08-31 22:30:52|  0|  A|  0|\n",
      "|  1|2020-08-31 22:30:52|  1|  B|  1|\n",
      "|  2|2020-08-31 22:30:52|  2|  C|  2|\n",
      "|  3|2020-08-31 22:30:52|  3|  D|  3|\n",
      "|  4|2020-08-31 22:30:52|  4|  E|  4|\n",
      "|  5|2020-08-31 22:30:52|  5|  F|  5|\n",
      "|  6|2020-08-31 22:30:52|  6|  G|  6|\n",
      "|  7|2020-08-31 22:30:52|  7|  H|  7|\n",
      "|  8|2020-08-31 22:30:52|  8|  I|  8|\n",
      "|  9|2020-08-31 22:30:52|  9|  J|  9|\n",
      "+---+-------------------+---+---+---+"
     ]
    }
   ],
   "source": [
    "spark.sql(\"SELECT * FROM schema_test.s_schema_test WHERE sk is not null LIMIT 10\").show()"
   ]
  },
  {
   "cell_type": "markdown",
   "metadata": {},
   "source": [
    "### Case 3: Column types are changed."
   ]
  },
  {
   "cell_type": "code",
   "execution_count": 5,
   "metadata": {},
   "outputs": [
    {
     "data": {
      "application/vnd.jupyter.widget-view+json": {
       "model_id": "",
       "version_major": 2,
       "version_minor": 0
      },
      "text/plain": [
       "FloatProgress(value=0.0, bar_style='info', description='Progress:', layout=Layout(height='25px', width='50%'),…"
      ]
     },
     "metadata": {},
     "output_type": "display_data"
    }
   ],
   "source": [
    "from datetime import datetime\n",
    "\n",
    "## Generates Data\n",
    "def get_json_data(start, count, increment=0):\n",
    "    now = str(datetime.today().replace(microsecond=0))\n",
    "    data = [{\"id\": i, \"id1\": str(i),\"sk\": i+increment, \"txt\": chr(65 + (i % 26)), \"modified_time\" : now } for i in range(start, start + count)]\n",
    "    return data\n",
    "\n",
    "# Creates the Dataframe\n",
    "def create_json_df(spark, data):\n",
    "    sc = spark.sparkContext\n",
    "    return spark.read.json(sc.parallelize(data, 2))"
   ]
  },
  {
   "cell_type": "code",
   "execution_count": 6,
   "metadata": {},
   "outputs": [
    {
     "data": {
      "application/vnd.jupyter.widget-view+json": {
       "model_id": "",
       "version_major": 2,
       "version_minor": 0
      },
      "text/plain": [
       "FloatProgress(value=0.0, bar_style='info', description='Progress:', layout=Layout(height='25px', width='50%'),…"
      ]
     },
     "metadata": {},
     "output_type": "display_data"
    },
    {
     "name": "stdout",
     "output_type": "stream",
     "text": [
      "4000\n",
      "root\n",
      " |-- id: long (nullable = true)\n",
      " |-- id1: string (nullable = true)\n",
      " |-- modified_time: string (nullable = true)\n",
      " |-- sk: long (nullable = true)\n",
      " |-- txt: string (nullable = true)\n",
      "\n",
      "+---+---+-------------------+---+---+\n",
      "| id|id1|      modified_time| sk|txt|\n",
      "+---+---+-------------------+---+---+\n",
      "|  0|  0|2020-08-31 22:56:52|  0|  A|\n",
      "|  1|  1|2020-08-31 22:56:52|  1|  B|\n",
      "|  2|  2|2020-08-31 22:56:52|  2|  C|\n",
      "+---+---+-------------------+---+---+\n",
      "only showing top 3 rows"
     ]
    }
   ],
   "source": [
    "df3 = create_json_df(spark, get_json_data(0, 4000))\n",
    "print(df3.count())\n",
    "df3.printSchema()\n",
    "df3.show(3)"
   ]
  },
  {
   "cell_type": "code",
   "execution_count": 9,
   "metadata": {},
   "outputs": [
    {
     "data": {
      "application/vnd.jupyter.widget-view+json": {
       "model_id": "",
       "version_major": 2,
       "version_minor": 0
      },
      "text/plain": [
       "FloatProgress(value=0.0, bar_style='info', description='Progress:', layout=Layout(height='25px', width='50%'),…"
      ]
     },
     "metadata": {},
     "output_type": "display_data"
    },
    {
     "name": "stdout",
     "output_type": "stream",
     "text": [
      "root\n",
      " |-- id: long (nullable = true)\n",
      " |-- modified_time: string (nullable = true)\n",
      " |-- sk: long (nullable = true)\n",
      " |-- txt: string (nullable = true)\n",
      " |-- id1: long (nullable = true)"
     ]
    }
   ],
   "source": [
    "evolved_df=evolveSchema(df3,\"schema_test.s_schema_test\",False, True)\n",
    "evolved_df[1].printSchema()"
   ]
  },
  {
   "cell_type": "code",
   "execution_count": 10,
   "metadata": {},
   "outputs": [
    {
     "data": {
      "application/vnd.jupyter.widget-view+json": {
       "model_id": "",
       "version_major": 2,
       "version_minor": 0
      },
      "text/plain": [
       "FloatProgress(value=0.0, bar_style='info', description='Progress:', layout=Layout(height='25px', width='50%'),…"
      ]
     },
     "metadata": {},
     "output_type": "display_data"
    }
   ],
   "source": [
    "evolved_df[1].write.mode(\"APPEND\").parquet(\"s3://s3bucket/parquet/schema_test/\")"
   ]
  },
  {
   "cell_type": "markdown",
   "metadata": {},
   "source": [
    "### Case 4: Columns are added at the end."
   ]
  },
  {
   "cell_type": "code",
   "execution_count": 11,
   "metadata": {},
   "outputs": [
    {
     "data": {
      "application/vnd.jupyter.widget-view+json": {
       "model_id": "",
       "version_major": 2,
       "version_minor": 0
      },
      "text/plain": [
       "FloatProgress(value=0.0, bar_style='info', description='Progress:', layout=Layout(height='25px', width='50%'),…"
      ]
     },
     "metadata": {},
     "output_type": "display_data"
    }
   ],
   "source": [
    "from datetime import datetime\n",
    "\n",
    "## Generates Data\n",
    "def get_json_data(start, count, increment=0):\n",
    "    now = str(datetime.today().replace(microsecond=0))\n",
    "    data = [{\"id\": i, \"id1\": i,\"sk\": i+increment, \"txt\": chr(65 + (i % 26)), \"modified_time\" : now,  \"txt1\": chr(65 + (i % 26)) } for i in range(start, start + count)]\n",
    "    return data\n",
    "\n",
    "# Creates the Dataframe\n",
    "def create_json_df(spark, data):\n",
    "    sc = spark.sparkContext\n",
    "    return spark.read.json(sc.parallelize(data, 2))"
   ]
  },
  {
   "cell_type": "code",
   "execution_count": 12,
   "metadata": {},
   "outputs": [
    {
     "data": {
      "application/vnd.jupyter.widget-view+json": {
       "model_id": "",
       "version_major": 2,
       "version_minor": 0
      },
      "text/plain": [
       "FloatProgress(value=0.0, bar_style='info', description='Progress:', layout=Layout(height='25px', width='50%'),…"
      ]
     },
     "metadata": {},
     "output_type": "display_data"
    },
    {
     "name": "stdout",
     "output_type": "stream",
     "text": [
      "4000\n",
      "root\n",
      " |-- id: long (nullable = true)\n",
      " |-- id1: long (nullable = true)\n",
      " |-- modified_time: string (nullable = true)\n",
      " |-- sk: long (nullable = true)\n",
      " |-- txt: string (nullable = true)\n",
      " |-- txt1: string (nullable = true)\n",
      "\n",
      "+---+---+-------------------+---+---+----+\n",
      "| id|id1|      modified_time| sk|txt|txt1|\n",
      "+---+---+-------------------+---+---+----+\n",
      "|  0|  0|2020-08-31 23:12:46|  0|  A|   A|\n",
      "|  1|  1|2020-08-31 23:12:46|  1|  B|   B|\n",
      "|  2|  2|2020-08-31 23:12:46|  2|  C|   C|\n",
      "+---+---+-------------------+---+---+----+\n",
      "only showing top 3 rows"
     ]
    }
   ],
   "source": [
    "df4 = create_json_df(spark, get_json_data(0, 4000))\n",
    "print(df4.count())\n",
    "df4.printSchema()\n",
    "df4.show(3)"
   ]
  },
  {
   "cell_type": "code",
   "execution_count": 13,
   "metadata": {},
   "outputs": [
    {
     "data": {
      "application/vnd.jupyter.widget-view+json": {
       "model_id": "",
       "version_major": 2,
       "version_minor": 0
      },
      "text/plain": [
       "FloatProgress(value=0.0, bar_style='info', description='Progress:', layout=Layout(height='25px', width='50%'),…"
      ]
     },
     "metadata": {},
     "output_type": "display_data"
    },
    {
     "name": "stdout",
     "output_type": "stream",
     "text": [
      "root\n",
      " |-- id: long (nullable = true)\n",
      " |-- modified_time: string (nullable = true)\n",
      " |-- sk: long (nullable = true)\n",
      " |-- txt: string (nullable = true)\n",
      " |-- id1: long (nullable = true)\n",
      " |-- txt1: string (nullable = true)"
     ]
    }
   ],
   "source": [
    "evolved_df=evolveSchema(df4,\"schema_test.s_schema_test\",False, True)\n",
    "evolved_df[1].printSchema()"
   ]
  },
  {
   "cell_type": "code",
   "execution_count": 14,
   "metadata": {},
   "outputs": [
    {
     "data": {
      "application/vnd.jupyter.widget-view+json": {
       "model_id": "",
       "version_major": 2,
       "version_minor": 0
      },
      "text/plain": [
       "FloatProgress(value=0.0, bar_style='info', description='Progress:', layout=Layout(height='25px', width='50%'),…"
      ]
     },
     "metadata": {},
     "output_type": "display_data"
    }
   ],
   "source": [
    "evolved_df[1].write.mode(\"APPEND\").parquet(\"s3://s3bucket/parquet/schema_test/\")"
   ]
  },
  {
   "cell_type": "code",
   "execution_count": 15,
   "metadata": {},
   "outputs": [
    {
     "data": {
      "application/vnd.jupyter.widget-view+json": {
       "model_id": "",
       "version_major": 2,
       "version_minor": 0
      },
      "text/plain": [
       "FloatProgress(value=0.0, bar_style='info', description='Progress:', layout=Layout(height='25px', width='50%'),…"
      ]
     },
     "metadata": {},
     "output_type": "display_data"
    },
    {
     "name": "stdout",
     "output_type": "stream",
     "text": [
      "{'Table': {'Name': 's_schema_test', 'DatabaseName': 'schema_test', 'Owner': 'owner', 'CreateTime': datetime.datetime(2020, 8, 31, 22, 28, 33, tzinfo=tzlocal()), 'UpdateTime': datetime.datetime(2020, 8, 31, 22, 31, 12, tzinfo=tzlocal()), 'LastAccessTime': datetime.datetime(2020, 8, 31, 22, 28, 33, tzinfo=tzlocal()), 'Retention': 0, 'StorageDescriptor': {'Columns': [{'Name': 'id', 'Type': 'bigint'}, {'Name': 'modified_time', 'Type': 'string'}, {'Name': 'sk', 'Type': 'bigint'}, {'Name': 'txt', 'Type': 'string'}, {'Name': 'id1', 'Type': 'bigint'}], 'Location': 's3://s3bucket/parquet/schema_test/', 'InputFormat': 'org.apache.hadoop.hive.ql.io.parquet.MapredParquetInputFormat', 'OutputFormat': 'org.apache.hadoop.hive.ql.io.parquet.MapredParquetOutputFormat', 'Compressed': False, 'NumberOfBuckets': -1, 'SerdeInfo': {'SerializationLibrary': 'org.apache.hadoop.hive.ql.io.parquet.serde.ParquetHiveSerDe', 'Parameters': {'serialization.format': '1'}}, 'BucketColumns': [], 'SortColumns': [], 'Parameters': {'CrawlerSchemaDeserializerVersion': '1.0', 'CrawlerSchemaSerializerVersion': '1.0', 'UPDATED_BY_CRAWLER': 'Schema_Test', 'averageRecordSize': '16', 'classification': 'parquet', 'compressionType': 'none', 'objectCount': '2', 'recordCount': '4000', 'sizeKey': '36567', 'typeOfData': 'file'}, 'StoredAsSubDirectories': False}, 'PartitionKeys': [], 'TableType': 'EXTERNAL_TABLE', 'Parameters': {'CrawlerSchemaDeserializerVersion': '1.0', 'CrawlerSchemaSerializerVersion': '1.0', 'UPDATED_BY_CRAWLER': 'Schema_Test', 'averageRecordSize': '16', 'classification': 'parquet', 'compressionType': 'none', 'objectCount': '2', 'recordCount': '4000', 'sizeKey': '36567', 'typeOfData': 'file'}, 'CreatedBy': 'arn:aws:sts::959874710265:assumed-role/GlueServiceRole/AWS-Crawler', 'IsRegisteredWithLakeFormation': False}, 'ResponseMetadata': {'RequestId': '4f9507dd-b11a-41ef-a7cc-93c93503ff2e', 'HTTPStatusCode': 200, 'HTTPHeaders': {'x-amzn-requestid': '4f9507dd-b11a-41ef-a7cc-93c93503ff2e', 'content-type': 'application/x-amz-json-1.1', 'content-length': '1594', 'date': 'Mon, 31 Aug 2020 23:13:30 GMT'}, 'RetryAttempts': 0}}\n",
      "{'ResponseMetadata': {'RequestId': 'be33d2a3-4421-41a9-876c-674d20e5f156', 'HTTPStatusCode': 200, 'HTTPHeaders': {'x-amzn-requestid': 'be33d2a3-4421-41a9-876c-674d20e5f156', 'content-type': 'application/x-amz-json-1.1', 'content-length': '2', 'date': 'Mon, 31 Aug 2020 23:13:31 GMT'}, 'RetryAttempts': 0}}"
     ]
    }
   ],
   "source": [
    "update_glue_schema(evolved_df[1],'schema_test','s_schema_test')"
   ]
  },
  {
   "cell_type": "code",
   "execution_count": null,
   "metadata": {},
   "outputs": [],
   "source": []
  }
 ],
 "metadata": {
  "kernelspec": {
   "display_name": "Sparkmagic (PySpark)",
   "language": "",
   "name": "pysparkkernel"
  },
  "language_info": {
   "codemirror_mode": {
    "name": "python",
    "version": 3
   },
   "mimetype": "text/x-python",
   "name": "pyspark",
   "pygments_lexer": "python3"
  }
 },
 "nbformat": 4,
 "nbformat_minor": 4
}
